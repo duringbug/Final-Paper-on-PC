{
 "cells": [
  {
   "cell_type": "code",
   "execution_count": 1,
   "metadata": {},
   "outputs": [],
   "source": [
    "import os\n",
    "os.chdir('./')"
   ]
  },
  {
   "cell_type": "code",
   "execution_count": 2,
   "metadata": {},
   "outputs": [
    {
     "name": "stdout",
     "output_type": "stream",
     "text": [
      "Round 1/10\n",
      "Global model parameters: OrderedDict([('fc.weight', tensor([[1.6332]])), ('fc.bias', tensor([1.2021]))])\n",
      "Round 2/10\n",
      "Global model parameters: OrderedDict([('fc.weight', tensor([[1.7174]])), ('fc.bias', tensor([1.1572]))])\n",
      "Round 3/10\n",
      "Global model parameters: OrderedDict([('fc.weight', tensor([[1.7819]])), ('fc.bias', tensor([1.1226]))])\n",
      "Round 4/10\n",
      "Global model parameters: OrderedDict([('fc.weight', tensor([[1.8314]])), ('fc.bias', tensor([1.0961]))])\n",
      "Round 5/10\n",
      "Global model parameters: OrderedDict([('fc.weight', tensor([[1.8693]])), ('fc.bias', tensor([1.0757]))])\n",
      "Round 6/10\n",
      "Global model parameters: OrderedDict([('fc.weight', tensor([[1.8984]])), ('fc.bias', tensor([1.0601]))])\n",
      "Round 7/10\n",
      "Global model parameters: OrderedDict([('fc.weight', tensor([[1.9207]])), ('fc.bias', tensor([1.0482]))])\n",
      "Round 8/10\n",
      "Global model parameters: OrderedDict([('fc.weight', tensor([[1.9378]])), ('fc.bias', tensor([1.0390]))])\n",
      "Round 9/10\n",
      "Global model parameters: OrderedDict([('fc.weight', tensor([[1.9509]])), ('fc.bias', tensor([1.0319]))])\n",
      "Round 10/10\n",
      "Global model parameters: OrderedDict([('fc.weight', tensor([[1.9609]])), ('fc.bias', tensor([1.0266]))])\n",
      "Final global model parameters:\n",
      "OrderedDict([('fc.weight', tensor([[1.9609]])), ('fc.bias', tensor([1.0266]))])\n"
     ]
    }
   ],
   "source": [
    "# federated_learning.py\n",
    "import torch\n",
    "from data.data_generation import generate_data\n",
    "from model.model import LinearRegressionModel\n",
    "from training.train import train_local_model, federated_averaging\n",
    "\n",
    "def federated_learning(num_clients=5, num_rounds=10):\n",
    "    \"\"\"\n",
    "    联邦学习模拟\n",
    "    \"\"\"\n",
    "    # 初始化全局模型\n",
    "    global_model = LinearRegressionModel()\n",
    "\n",
    "    # 每个客户端的数据\n",
    "    client_data = [generate_data(100) for _ in range(num_clients)]  # 每个客户端100个样本\n",
    "\n",
    "    for round_num in range(num_rounds):\n",
    "        print(f\"Round {round_num+1}/{num_rounds}\")\n",
    "        client_models = []\n",
    "        \n",
    "        # 每个客户端训练自己的本地模型\n",
    "        for client_id in range(num_clients):\n",
    "            model = LinearRegressionModel()  # 每个客户端从头开始\n",
    "            model.load_state_dict(global_model.state_dict())  # 加载全局模型的参数\n",
    "            data, targets = client_data[client_id]\n",
    "            local_model_state_dict = train_local_model(model, data, targets)\n",
    "            client_models.append(local_model_state_dict)\n",
    "        \n",
    "        # 聚合客户端的模型更新\n",
    "        global_model_state_dict = federated_averaging(client_models)\n",
    "        global_model.load_state_dict(global_model_state_dict)\n",
    "\n",
    "        # 打印当前全局模型的参数\n",
    "        print(f\"Global model parameters: {global_model.state_dict()}\")\n",
    "\n",
    "    return global_model\n",
    "\n",
    "global_model = federated_learning(num_clients=5, num_rounds=10)\n",
    "print(\"Final global model parameters:\")\n",
    "print(global_model.state_dict())\n"
   ]
  }
 ],
 "metadata": {
  "kernelspec": {
   "display_name": "pc",
   "language": "python",
   "name": "python3"
  },
  "language_info": {
   "codemirror_mode": {
    "name": "ipython",
    "version": 3
   },
   "file_extension": ".py",
   "mimetype": "text/x-python",
   "name": "python",
   "nbconvert_exporter": "python",
   "pygments_lexer": "ipython3",
   "version": "3.10.16"
  }
 },
 "nbformat": 4,
 "nbformat_minor": 2
}
